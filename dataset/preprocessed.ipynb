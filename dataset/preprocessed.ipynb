{
 "cells": [
  {
   "cell_type": "code",
   "execution_count": null,
   "id": "bc1d72e3",
   "metadata": {},
   "outputs": [],
   "source": [
    "import os\n",
    "import pandas as pd\n",
    "import json\n",
    "\n",
    "# ✅ CSV → Document 스타일 전처리 함수\n",
    "def csv_to_doc_dicts(file_path: str) -> list[dict]:\n",
    "    df = pd.read_csv(file_path)\n",
    "    doc_dicts = []\n",
    "    for _, row in df.iterrows():\n",
    "        row_dict = row.to_dict()\n",
    "        content = row_dict.pop(\"설명\", \"\")  # 설명 = 본문\n",
    "        doc_dicts.append({\"내용\": content, **row_dict})\n",
    "    return doc_dicts\n",
    "\n",
    "# ✅ 저장 함수 (CSV, JSON)\n",
    "def save_docs(doc_dicts: list[dict], prefix: str):\n",
    "    pd.DataFrame(doc_dicts).to_csv(f\"{prefix}_documents.csv\", index=False, encoding=\"utf-8-sig\")\n",
    "    with open(f\"{prefix}_documents.json\", \"w\", encoding=\"utf-8\") as f:\n",
    "        json.dump(doc_dicts, f, ensure_ascii=False, indent=2)\n",
    "    print(f\"✅ 저장 완료: {prefix}_documents.csv / .json\")\n",
    "\n",
    "# ✅ 처리할 파일명 리스트 (확장자 제외)\n",
    "files_name = [\n",
    "    \"jeju_heritage\", \"seoul_heritage\", \"busan_heritage\", \"gyeonggi_heritage\",\n",
    "    # ... 여기에 나머지 13개 파일명도 추가\n",
    "]\n",
    "\n",
    "# ✅ 메인 루프\n",
    "for name in files_name:\n",
    "    file_path = f\"{name}.csv\"  # 예: jeju_heritage.csv\n",
    "    if not os.path.exists(file_path):\n",
    "        print(f\"❌ 파일 없음: {file_path}\")\n",
    "        continue\n",
    "\n",
    "    try:\n",
    "        doc_dicts = csv_to_doc_dicts(file_path)\n",
    "        save_docs(doc_dicts, name)\n",
    "    except Exception as e:\n",
    "        print(f\"⚠️ 처리 실패: {file_path} - {e}\")"
   ]
  }
 ],
 "metadata": {
  "language_info": {
   "name": "python"
  }
 },
 "nbformat": 4,
 "nbformat_minor": 5
}

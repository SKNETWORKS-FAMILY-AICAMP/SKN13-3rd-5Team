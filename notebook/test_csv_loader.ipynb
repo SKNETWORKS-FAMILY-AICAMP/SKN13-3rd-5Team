{
 "cells": [
  {
   "cell_type": "code",
   "execution_count": 21,
   "id": "0a2f9c25",
   "metadata": {},
   "outputs": [
    {
     "name": "stdout",
     "output_type": "stream",
     "text": [
      "완료: SKN13-3rd-5Team/dataset\\Busan_heritage_with_detail_and_desc.csv\n",
      "완료: SKN13-3rd-5Team/dataset\\Chungbuk_heritage_with_detail_and_desc.csv\n",
      "완료: SKN13-3rd-5Team/dataset\\Chungnam_heritage_with_detail_and_desc.csv\n",
      "완료: SKN13-3rd-5Team/dataset\\Daegu_heritage_with_detail_and_desc.csv\n",
      "완료: SKN13-3rd-5Team/dataset\\Daejeon_heritage_with_detail_and_desc.csv\n",
      "완료: SKN13-3rd-5Team/dataset\\Gangwon_heritage_with_detail_and_desc.csv\n",
      "완료: SKN13-3rd-5Team/dataset\\Gawngju_heritage_with_detail_and_desc.csv\n",
      "완료: SKN13-3rd-5Team/dataset\\Gyeongbuk_heritage_with_detail_and_desc.csv\n",
      "완료: SKN13-3rd-5Team/dataset\\Gyeonggi_heritage_with_detail_and_desc.csv\n",
      "완료: SKN13-3rd-5Team/dataset\\Gyeongnam_heritage_with_detail_and_desc.csv\n",
      "완료: SKN13-3rd-5Team/dataset\\Incheon_heritage_with_detail_and_desc.csv\n",
      "완료: SKN13-3rd-5Team/dataset\\Jeju_heritage_with_detail_and_desc.csv\n",
      "완료: SKN13-3rd-5Team/dataset\\Jeonbuk_heritage_with_detail_and_desc.csv\n",
      "완료: SKN13-3rd-5Team/dataset\\Jeonnam_heritage_with_detail_and_desc.csv\n",
      "완료: SKN13-3rd-5Team/dataset\\Sejong_heritage_with_detail_and_desc.csv\n",
      "완료: SKN13-3rd-5Team/dataset\\Seoul_heritage_with_detail_and_desc.csv\n",
      "완료: SKN13-3rd-5Team/dataset\\Ulsan_heritage_with_detail_and_desc.csv\n",
      "총 문서 수: 14637\n"
     ]
    }
   ],
   "source": [
    "import glob\n",
    "import os\n",
    "from langchain_community.document_loaders import CSVLoader\n",
    "\n",
    "# 1. 불러올 디렉토리 경로 지정\n",
    "base_dir = \"SKN13-3rd-5Team/dataset\"\n",
    "pattern = os.path.join(base_dir, \"*.csv\")\n",
    "\n",
    "# 2. 모든 CSV 파일 경로 가져오기\n",
    "csv_file_paths = glob.glob(pattern)\n",
    "\n",
    "# 3. 한 방에 로딩하기\n",
    "all_csv_docs = []\n",
    "for path in csv_file_paths:\n",
    "    loader = CSVLoader(\n",
    "        file_path=path,\n",
    "        source_column=\"상세페이지링크\",\n",
    "        metadata_columns=[\"종목\", \"명칭\", \"소재지\", \"관리자\", \"분류\",\n",
    "                          \"수량/면적\", \"지정(등록)일\", \"소재지(상세)\", \"시대\",\n",
    "                          \"소유자(소유단체)\", \"관리자(관리단체)\"],\n",
    "        csv_args={'delimiter': \",\"},\n",
    "        encoding='utf-8',\n",
    "        content_columns=[\"설명\"]\n",
    "    )\n",
    "    docs = loader.load()\n",
    "    print(f\"완료: {path}\")\n",
    "    all_csv_docs.extend(docs)\n",
    "\n",
    "print(f\"총 문서 수: {len(all_csv_docs)}\")"
   ]
  },
  {
   "cell_type": "code",
   "execution_count": null,
   "id": "0f3f49ba",
   "metadata": {},
   "outputs": [
    {
     "name": "stdout",
     "output_type": "stream",
     "text": [
      "page_content='설명: 이 종은 용통이 없고 쌍룡뉴가 달린 형식의 비교적 작은 종으로, 전반적으로 조선후기 범종 형식을 따르고 있다. 종의 하부에는 긴 명문이 돌아가면서 양각으로 새겨져 있어 종의 주성 연대 및 제작지, 장인 및 시주자의 이름을 알 수 있다. 명문에 의하면 제작연대는 석존응화 2962년인 1935년으로 조선 후기 범종 형식을 따르는 일제강점기의 범종이다.\n",
      "\n",
      "종신부는 굵은 횡대로 상하 2단으로 나누어져 있는데, 상단에는 방형의 유곽 4개를 사방에 배치하고 유곽 사이의 빈 공간에는 보살입상을 각각 1구씩 배치하였다. 유곽 안에는 원형의 작은 뉴(紐)가 9개씩 배치되어 있는데, 조선시대 범종의 연뢰와는 달리 뉴에 연꽃 봉오리 모양의 장식이 표현되어 있지 않다. 유곽 사이에 배치된 보살입상은 두 손을 가슴에서 모으고 정면을 바라보고 서 있는 형상이다.\n",
      "\n",
      "한편 종의 표면에는 칠을 했던 흔적이 있는데, 이러한 칠과 주조 금속의 성분을 알 수 있는 자료라는 점에서는 주목할 만하다. 일제강점기에는 일제의 전쟁 수행으로 인해 조선 후기 이후의 대다수 금속공예품들이 강제 수탈당했기 때문에 당시 유물들은 현존하는 예가 극히 드문 편이다.\n",
      "\n",
      "이런 점에서 홍제사 범종은 종신에 있는 조성기를 통해 조성연대, 봉안처, 제작자, 시주자 등을 명확하게 알 수 있는 일제강점기에 제작된 보기 드문 금속공예품이라는 자료적 가치가 지닌 작품이다.' metadata={'source': 'https://www.heritage.go.kr/heri/cul/culSelectDetail.do?culPageNo=47&region=2&searchCondition=&searchCondition2=&s_kdcd=00&s_ctcd=21&ccbaKdcd=31&ccbaAsno=00640000&ccbaCtcd=21&ccbaCpno=3412100640000&ccbaCndt=&ccbaLcto=00&stCcbaAsno=&endCcbaAsno=&stCcbaAsdt=&endCcbaAsdt=&ccbaPcd1=&chGubun=&header=region&returnUrl=%2fheri%2fcul%2fculSelectRegionList.do&pageNo=1_1_3_1&sngl=Y', 'row': 465, '종목': '부산광역시문화유산자료', '명칭': '홍제사 보광암명 범종(弘齊寺 寶光庵銘 梵鐘)', '소재지': '부산 부산진구', '관리자': '홍제사', '분류': '유물 / 불교공예 / 의식법구', '수량/면적': '1구', '지정(등록)일': '2012.10.30', '소재지(상세)': '부산광역시 부산진구 진남로304번길 34 (전포동, 홍제사)', '시대': '', '소유자(소유단체)': '홍제사', '관리자(관리단체)': '홍제사'}\n"
     ]
    },
    {
     "ename": "",
     "evalue": "",
     "output_type": "error",
     "traceback": [
      "\u001b[1;31m현재 셀 또는 이전 셀에서 코드를 실행하는 동안 Kernel이 충돌했습니다. \n",
      "\u001b[1;31m셀의 코드를 검토하여 가능한 오류 원인을 식별하세요. \n",
      "\u001b[1;31m자세한 내용을 보려면 <a href='https://aka.ms/vscodeJupyterKernelCrash'>여기</a>를 클릭하세요. \n",
      "\u001b[1;31m자세한 내용은 Jupyter <a href='command:jupyter.viewOutput'>로그</a>를 참조하세요."
     ]
    }
   ],
   "source": [
    "print(csv_data[-100])"
   ]
  },
  {
   "cell_type": "code",
   "execution_count": 15,
   "id": "e43d08f1",
   "metadata": {},
   "outputs": [
    {
     "data": {
      "text/plain": [
       "Document(metadata={'source': 'https://www.heritage.go.kr/heri/cul/culSelectDetail.do?culPageNo=1&region=2&searchCondition=&searchCondition2=&s_kdcd=00&s_ctcd=21&ccbaKdcd=11&ccbaAsno=00690000&ccbaCtcd=21&ccbaCpno=1112100690000&ccbaCndt=&ccbaLcto=00&stCcbaAsno=&endCcbaAsno=&stCcbaAsdt=&endCcbaAsdt=&ccbaPcd1=&chGubun=&header=region&returnUrl=%2fheri%2fcul%2fculSelectRegionList.do&pageNo=1_1_3_1&sngl=Y', 'row': 0, '종목': '국보', '명칭': '심지백 개국원종공신녹권(沈之伯 開國原從功臣錄券)', '소재지': '부산 서구', '관리자': '동아대학교박물관', '분류': '기록유산 / 문서류 / 국왕문서 / 교령류', '수량/면적': '1축', '지정(등록)일': '1962.12.20', '소재지(상세)': '부산광역시 서구 구덕로 (부민동2가, 동아대학교부민캠퍼스) 동아대학교박물관', '시대': '조선 태조 6년(1397)', '소유자(소유단체)': '동아대학교', '관리자(관리단체)': '동아대학교박물관'}, page_content='설명: 조선 태조 6년(1397) 10월에 공신도감(功臣都監)에서 왕의 명령을 받아 심지백(沈之伯)에게 내린 문서로, 공신임을 입증하는 내용을 담고 있다. 크기는 가로 140㎝, 세로 30.5㎝이며, 원래는 함경남도 단천군 파도면 심씨 집안에서 물려 내려오던 것이다.\\r\\n\\r\\n개국원종공신(開國原從功臣) 제도는 조선시대에 개국공신을 늘리려는 의도에서 만들어진 일종의 새로운 포상제도로, 1392년부터 1397년까지 여러 차례에 걸쳐 1,400여 명에게 봉해졌다. 심지백이 녹권을 받을 때에도 74명이 함께 받았는데, 이때 그들에게 내린 포상으로는 각기 밭 15결(結)을 내렸고, 각 공신의 부모와 처에게는 땅을 주고 벼슬을 내렸으며, 자손에게는 벼슬을 주었다. 이러한 사실은 실록에도 빠져있어 알려지지 않았으나 이 문서에 의하여 비로소 알려지게 되었다.\\r\\n\\r\\n이 문서는 조선 전기의 문서로 이두문(吏讀文)이 많이 사용되어 그 문체와 내용이 귀중한 역사적 자료가 되며, 목활자를 이용하여 찍어냈다는 점에서 더욱 중요성이 엿보인다. 또한 조선 전기의 목활자 인쇄물로서 상태가 완전하고 남한에 전해지고 있는 것으로는 이 문서가 으뜸으로 손꼽혀지는데, 두루마리로 되어있는 점에서도 조선 전기의 특징을 엿볼 수 있다. 글자 크기가 일정하지 않고 글자배열이 고르지 않는 등 인쇄가 정교하지는 않으나, 현존하는 목활자 인쇄물이라는 점에서 한국 활자 역사상 매우 귀중한 인쇄자료가 된다.')"
      ]
     },
     "execution_count": 15,
     "metadata": {},
     "output_type": "execute_result"
    }
   ],
   "source": [
    "csv_data[0]"
   ]
  },
  {
   "cell_type": "code",
   "execution_count": 16,
   "id": "7a306e37",
   "metadata": {},
   "outputs": [],
   "source": [
    "from dotenv import load_dotenv\n",
    "from langchain_openai import OpenAIEmbeddings   #, ChatOpenAI\n",
    "\n",
    "load_dotenv()\n",
    "e_model_id = \"text-embedding-3-large\"\n",
    "\n",
    "embedding_model = OpenAIEmbeddings(model=e_model_id)"
   ]
  },
  {
   "cell_type": "code",
   "execution_count": 17,
   "id": "143379f3",
   "metadata": {},
   "outputs": [
    {
     "name": "stdout",
     "output_type": "stream",
     "text": [
      "0~10까지 완료\n",
      "10~20까지 완료\n",
      "20~30까지 완료\n",
      "30~40까지 완료\n",
      "40~50까지 완료\n",
      "50~60까지 완료\n",
      "60~70까지 완료\n",
      "70~80까지 완료\n",
      "80~90까지 완료\n",
      "90~100까지 완료\n",
      "100~110까지 완료\n",
      "110~120까지 완료\n",
      "120~130까지 완료\n",
      "130~140까지 완료\n",
      "140~150까지 완료\n",
      "150~160까지 완료\n",
      "160~170까지 완료\n",
      "170~180까지 완료\n",
      "180~190까지 완료\n",
      "190~200까지 완료\n",
      "200~210까지 완료\n",
      "210~220까지 완료\n",
      "220~230까지 완료\n",
      "230~240까지 완료\n",
      "240~250까지 완료\n",
      "250~260까지 완료\n",
      "260~270까지 완료\n",
      "270~280까지 완료\n",
      "280~290까지 완료\n",
      "290~300까지 완료\n",
      "300~310까지 완료\n",
      "310~320까지 완료\n",
      "320~330까지 완료\n",
      "330~340까지 완료\n",
      "340~350까지 완료\n",
      "350~360까지 완료\n",
      "360~370까지 완료\n",
      "370~380까지 완료\n",
      "380~390까지 완료\n",
      "390~400까지 완료\n",
      "400~410까지 완료\n",
      "410~420까지 완료\n",
      "420~430까지 완료\n",
      "430~440까지 완료\n",
      "440~450까지 완료\n",
      "450~460까지 완료\n",
      "460~470까지 완료\n",
      "470~480까지 완료\n",
      "480~490까지 완료\n",
      "490~500까지 완료\n",
      "500~510까지 완료\n",
      "510~520까지 완료\n",
      "520~530까지 완료\n",
      "530~540까지 완료\n",
      "540~550까지 완료\n",
      "550~560까지 완료\n",
      "560~570까지 완료\n"
     ]
    }
   ],
   "source": [
    "from langchain_core.vectorstores import InMemoryVectorStore\n",
    "vector_store = InMemoryVectorStore(\n",
    "    embedding=embedding_model\n",
    ")\n",
    "\n",
    "chunk_size = 10\n",
    "for i in range(0, len(csv_data), chunk_size):\n",
    "    chunk = csv_data[i:i+chunk_size]\n",
    "    vector_store.add_documents(chunk)\n",
    "    print(f\"{i+1}~{i+chunk_size}까지 완료\")"
   ]
  },
  {
   "cell_type": "code",
   "execution_count": 18,
   "id": "a0bcd989",
   "metadata": {},
   "outputs": [],
   "source": [
    "query = \"일제 강점기의 조선 모습\"\n",
    "results = vector_store.similarity_search(\n",
    "    query=query,\n",
    "    k=5\n",
    ")"
   ]
  },
  {
   "cell_type": "code",
   "execution_count": 19,
   "id": "53e0aef0",
   "metadata": {},
   "outputs": [
    {
     "name": "stdout",
     "output_type": "stream",
     "text": [
      "page_content='설명: 일제강점기 조선총독부 조선사편수회에서 작성한 자료이다. 이 중 한중일관계사료 71책은 조선왕조실록, 비변사등록, 승정원일기 등과 중국의 황명실록을, 한일관계사료초 11책은 조선도해기, 해행록, 접대왜인사례, 동래부접왜사목초, 세선정탈등록, 신사역관도수기, 조선송사국차지서계각, 조선방과인장, 대번정사문답, 일선사무역연혁략에서 조선-일본, 부산-일본, 명나라-조선․일본 간의 교류 등과 관련된 내용을 발췌·정리한 것이다.\n",
      "\n",
      "이 자료집은 기존의 사서를 발췌 정리한 것이기 때문에 사료적 가치는 높지 않으나, 일제강점기 조선총독부 산하 조선사편수회의 주도로 한일관계사는 물론이고 한국사 및 일본사 정리 및 왜곡 과정에서 활용되었을 가능성이 많아 1900년대 초 일본 주도의 한국사 연구 실체를 보여주는 자료이다. 또한 일제강점기 조선사편수회의 업무 및 운영 형태를 이해하는데 매우 귀중한 자료로 평가된다. 아울러 국내에 현존하는 유일본으로 희소성 면에서도 자료적 가치가 높다.' metadata={'source': 'https://www.heritage.go.kr/heri/cul/culSelectDetail.do?culPageNo=49&region=2&searchCondition=&searchCondition2=&s_kdcd=00&s_ctcd=21&ccbaKdcd=31&ccbaAsno=00820000&ccbaCtcd=21&ccbaCpno=3412100820000&ccbaCndt=&ccbaLcto=00&stCcbaAsno=&endCcbaAsno=&stCcbaAsdt=&endCcbaAsdt=&ccbaPcd1=&chGubun=&header=region&returnUrl=%2fheri%2fcul%2fculSelectRegionList.do&pageNo=1_1_3_1&sngl=Y', 'row': 482, '종목': '부산광역시문화유산자료', '명칭': '한중일관계사료초(韓中日關係史料抄)', '소재지': '부산 금정구', '관리자': '부산대학교도서관', '분류': '기록유산 / 문서류 / 문서류', '수량/면적': '1', '지정(등록)일': '2015.03.18', '소재지(상세)': '부산광역시 금정구 부산대학로63번길 2 (장전동, 부산대학교) 도서관', '시대': '1923~1927년', '소유자(소유단체)': '부산대학교', '관리자(관리단체)': '부산대학교도서관'}\n"
     ]
    }
   ],
   "source": [
    "print(results[0])"
   ]
  },
  {
   "cell_type": "code",
   "execution_count": 20,
   "id": "b2339578",
   "metadata": {},
   "outputs": [
    {
     "name": "stdout",
     "output_type": "stream",
     "text": [
      "설명: 일제강점기 조선총독부 조선사편수회에서 작성한 자료이다. 이 중 한중일관계사료 71책은 조선왕조실록, 비변사등록, 승정원일기 등과 중국의 황명실록을, 한일관계사료초 11책은 조선도해기, 해행록, 접대왜인사례, 동래부접왜사목초, 세선정탈등록, 신사역관도수기, 조선송사국차지서계각, 조선방과인장, 대번정사문답, 일선사무역연혁략에서 조선-일본, 부산-일본, 명나라-조선․일본 간의 교류 등과 관련된 내용을 발췌·정리한 것이다.\n",
      "\n",
      "이 자료집은 기존의 사서를 발췌 정리한 것이기 때문에 사료적 가치는 높지 않으나, 일제강점기 조선총독부 산하 조선사편수회의 주도로 한일관계사는 물론이고 한국사 및 일본사 정리 및 왜곡 과정에서 활용되었을 가능성이 많아 1900년대 초 일본 주도의 한국사 연구 실체를 보여주는 자료이다. 또한 일제강점기 조선사편수회의 업무 및 운영 형태를 이해하는데 매우 귀중한 자료로 평가된다. 아울러 국내에 현존하는 유일본으로 희소성 면에서도 자료적 가치가 높다.\n",
      "설명: 1934년 동해남부선에서 최초로 완공된 역사로 일제강점기 병력수송의 주요 거점이었으며, 오랫동안 역사 광장에서는 새벽장터로서 지역생활의 중심지가 된 곳으로 지역민들의 수많은 애환을 간직하고 있다. 또한, 건립 당시 및 변천과정의 모습을 소상하게 알 수 있는 건축도면이 현존하고 있는 등 역사성과 장소성 측면에서 보존가치가 충분하다\n",
      "설명: 이 종은 용통이 없고 쌍룡뉴가 달린 형식의 비교적 작은 종으로, 전반적으로 조선후기 범종 형식을 따르고 있다. 종의 하부에는 긴 명문이 돌아가면서 양각으로 새겨져 있어 종의 주성 연대 및 제작지, 장인 및 시주자의 이름을 알 수 있다. 명문에 의하면 제작연대는 석존응화 2962년인 1935년으로 조선 후기 범종 형식을 따르는 일제강점기의 범종이다.\n",
      "\n",
      "종신부는 굵은 횡대로 상하 2단으로 나누어져 있는데, 상단에는 방형의 유곽 4개를 사방에 배치하고 유곽 사이의 빈 공간에는 보살입상을 각각 1구씩 배치하였다. 유곽 안에는 원형의 작은 뉴(紐)가 9개씩 배치되어 있는데, 조선시대 범종의 연뢰와는 달리 뉴에 연꽃 봉오리 모양의 장식이 표현되어 있지 않다. 유곽 사이에 배치된 보살입상은 두 손을 가슴에서 모으고 정면을 바라보고 서 있는 형상이다.\n",
      "\n",
      "한편 종의 표면에는 칠을 했던 흔적이 있는데, 이러한 칠과 주조 금속의 성분을 알 수 있는 자료라는 점에서는 주목할 만하다. 일제강점기에는 일제의 전쟁 수행으로 인해 조선 후기 이후의 대다수 금속공예품들이 강제 수탈당했기 때문에 당시 유물들은 현존하는 예가 극히 드문 편이다.\n",
      "\n",
      "이런 점에서 홍제사 범종은 종신에 있는 조성기를 통해 조성연대, 봉안처, 제작자, 시주자 등을 명확하게 알 수 있는 일제강점기에 제작된 보기 드문 금속공예품이라는 자료적 가치가 지닌 작품이다.\n",
      "설명: 광포는 함경남도 정평군과 함주군 사이에 있는 석호(潟湖)로 함경남도의 이름난 명승지로 알려진 곳이다. 1980년 1월 북한 천연기념물 제268호로 지정되었다. 해안의 융기와 퇴적작용에 의해 형성된 석호로 동해안의 석호 가운데 가장 규모가 크며, 광포강·다호천·봉대천 등 60여 개의 크고 작은 하천들이 흘러들며 장관을 이루고 있다.\n",
      "\n",
      "이 작품은 대략 북서에서 동남 방향으로 바라본 광포 일대의 모습을 부감시의 방법으로 표현하였다. ‘미점’, ‘T’자형 소나무의 표현 등 작품에 표현된 정선의 화풍으로 인해 정선의 그림으로 알려지기도 했지만, 산세 표현에 많이 보이는 짧고 가는 선들의 표현, 매우 조심스럽게 구사된 점획과 선묘의 표현은 이를 매우 활달하게 구사하는 정선의 화풍과는 뚜렷이 구분된다.\n",
      "\n",
      "이 작품은 실경산수화이지만 실경을 사실적으로 그린 그림이 아니라 관념산수화적 요소가 삽입되고 문인화풍으로 그려진 그림이라는 점에서 조선 후기에 크게 유행한 실경산수화 제작 관행에서 매우 특별한 사례로 평가될 수 있는 작품이다.\n",
      "설명: 부산진(釜山鎭)은 조선 태종 7년(1407) 낙동강의 동쪽지역인 경상좌도(慶尙左道) 수군의 사령부로서 휘하 11개의 수군진성과 함께 동남해안의 방어임무를 맡기도 하였다. 당시 수군은 배를 타고 바다에서 근무하는 것이 원칙이었다. 그러나 성종 21년(1490) 병선의 정박처로서 수군과 물자를 보호하기 위하여 둘레 2,026척(약 950m)의 부산진성(구 부산진성)을 증산(甑山) 아래에 쌓게 되었다.\n",
      "\n",
      "선조 25년(1592)의 임진왜란(壬辰倭亂) 첫 전투 때 부산진의 지휘관인 첨사(僉使) 정발(鄭撥)을 비롯한 군사와 백성들이 끝까지 싸웠으나 마침내 부산진성이 함락되었다. 일본군 장수 모리 테루모토(毛利輝元)가 부산진성을 허물고 증산 정상에 본성(本城)인 증산왜성(倭城)을 쌓았다. 또한 동남쪽 해안가에는 본성을 방어하기 위하여 지성支城: 원래의 성 밖에 보조로 쌓은 성, 자성대왜성(子城臺倭城))을 쌓았다.\n",
      "\n",
      "임진왜란이 끝난 뒤 선조 40년(1607) 조선 수군은 자성대왜성으로 진영(鎭營)을 옮겨 부산진첨사영(釜山鎭僉使營)으로 사용하였다.\n",
      "\n",
      "당시 부산진성의 규모는 둘레 1,791보 4척(약 2.4㎞)로 여첩 (女堞, 성벽 위 담장시설) 483타(垜)가 있었고, 동서남북에는 문루(門樓): 성문 위에 세운 높은 집 또는 다락를 두었는데 각각 진동문(鎭東門), 금루관(金壘關), 진남문(鎭南門), 구장루(龜藏樓)라 불렀다. 그리고 성내 정상에는 임진왜란 때 참전한 명나라 장수 만세덕(萬世德)을 추모하는 만공단(萬公壇)이 조성되었고, 서북쪽 외성(外城) 공간에는 객사인 공진관(拱辰館)과 부속건물, 동남쪽 내성(內城) 공간에는 관아(官衙)를 비롯한 부속건물이 있었다.\n",
      "\n",
      "일제강점기 시가지 정비 계획에 따라 성을 철거하면서 옛 모습이 거의 사라졌는데, 1974년 부산진성 정화 공사로 동문인 진동문(鎭東門, 구 건춘문), 서문인 금루관, 장대(將臺)인 승가정((勝嘉亭, 구 진남대)이 복원되었다. 현재는 부산진성공원 내 당시 자성대(子城臺)라고 부르던 일본식 성벽과 장대(將臺)인 승가정((勝嘉亭), 그리고 임진왜란 때 참전한 명나라의 장군 천만리(千萬里)의 후손이 세운‘천만리영양천공비(千萬里潁陽千公碑)’가 남아있다. 동문 서쪽에는 고려 말 왜구의 토벌에 공을 세운 최영 장군을 기리는 비각(碑閣): 비를 세우고 그 위를 덮어 지은 집이 보존되어 있다.\n",
      "\n",
      "부산진성은 조선수군의 5백년 역사를 간직한 곳으로 임진왜란 때 쌓은 왜성과 이후 왜성을 이용한 조선 후기 수군진성에 대한 연구 자료로서도 그 가치가 크다.\n"
     ]
    }
   ],
   "source": [
    "for result in results:\n",
    "    print(result.page_content)"
   ]
  },
  {
   "cell_type": "code",
   "execution_count": null,
   "id": "620fb0b9",
   "metadata": {},
   "outputs": [],
   "source": []
  }
 ],
 "metadata": {
  "kernelspec": {
   "display_name": "lang_env",
   "language": "python",
   "name": "python3"
  },
  "language_info": {
   "codemirror_mode": {
    "name": "ipython",
    "version": 3
   },
   "file_extension": ".py",
   "mimetype": "text/x-python",
   "name": "python",
   "nbconvert_exporter": "python",
   "pygments_lexer": "ipython3",
   "version": "3.12.11"
  }
 },
 "nbformat": 4,
 "nbformat_minor": 5
}

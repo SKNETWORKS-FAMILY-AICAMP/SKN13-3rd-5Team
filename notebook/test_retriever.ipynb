{
 "cells": [
  {
   "cell_type": "code",
   "execution_count": 1,
   "id": "c25bba57",
   "metadata": {},
   "outputs": [
    {
     "data": {
      "text/plain": [
       "True"
      ]
     },
     "execution_count": 1,
     "metadata": {},
     "output_type": "execute_result"
    }
   ],
   "source": [
    "import os\n",
    "from dotenv import load_dotenv\n",
    "from langchain_openai import ChatOpenAI\n",
    "\n",
    "load_dotenv()"
   ]
  },
  {
   "cell_type": "code",
   "execution_count": 2,
   "id": "2ce2c39f",
   "metadata": {},
   "outputs": [
    {
     "name": "stderr",
     "output_type": "stream",
     "text": [
      "C:\\Users\\jhwoo\\AppData\\Local\\Temp\\ipykernel_10548\\1133054664.py:6: LangChainDeprecationWarning: The class `Chroma` was deprecated in LangChain 0.2.9 and will be removed in 1.0. An updated version of the class exists in the :class:`~langchain-chroma package and should be used instead. To use it run `pip install -U :class:`~langchain-chroma` and import as `from :class:`~langchain_chroma import Chroma``.\n",
      "  vector_store = Chroma(\n"
     ]
    },
    {
     "name": "stdout",
     "output_type": "stream",
     "text": [
      "------\n",
      "설명: ­1904년경 건립된 것으로 보이는 전통목조 주택.가구기법 및 치목기법이 우수하고 공간 및 형태의 구성미와 조형미가 뛰어남\n",
      "{'소유자(소유단체)': '김＊＊＊', '관리자': '김＊＊＊', 'row': 2221, '소재지(상세)': '경북 봉화군 봉화읍 토일길 156-12 (유곡리)', 'source': 'https://www.heritage.go.kr/heri/cul/culSelectDetail.do?culPageNo=223&region=2&searchCondition=&searchCondition2=&s_kdcd=00&s_ctcd=37&ccbaKdcd=79&ccbaAsno=02180000&ccbaCtcd=37&ccbaCpno=4413702180000&ccbaCndt=&ccbaLcto=00&stCcbaAsno=&endCcbaAsno=&stCcbaAsdt=&endCcbaAsdt=&ccbaPcd1=&chGubun=&header=region&returnUrl=%2fheri%2fcul%2fculSelectRegionList.do&pageNo=1_1_3_1&sngl=Y', '수량/면적': '1동, 1층, 연면적 130.84㎡', '관리자(관리단체)': '김＊＊＊', '명칭': '봉화 유곡리 근대 한옥(奉化 酉谷里 近代 韓屋)', '종목': '국가등록문화유산', '소재지': '경북 봉화군', '시대': '1904년경', '분류': '등록문화유산 / 기타 / 주거숙박시설', '지정(등록)일': '2005.11.11'}\n",
      "------\n",
      "설명: 범어사 목조(木槽)는 통나무를 절반으로 자른 후 장방형으로 파낸 내부 밑바닥에 배수를 위한 방형 및 2개의 원형 구멍 배수구 및 바깥 양쪽 끝에는 고리모양의 홈이 뚫려있는 牛馬의 구유와 같은 나무통 형태이다. 목조의 외부 표면에 새겨진 명문으로 보아 영조 33년(1757) 10월에 취정사에서 제작된 후 수레로 가져왔음을 알 수 있고, 조선시대 사찰에서의 종이 부역과 관련된 유물이기도 하여 부산광역시 민속문화유산적 가치가 있다고 생각된다.\n",
      "{'소재지': '부산 금정구', '수량/면적': '1점', '소유자(소유단체)': '대한불교조계종범어사', '지정(등록)일': '2017.02.22', 'row': 396, 'source': 'https://www.heritage.go.kr/heri/cul/culSelectDetail.do?culPageNo=40&region=2&searchCondition=&searchCondition2=&s_kdcd=00&s_ctcd=21&ccbaKdcd=24&ccbaAsno=00170000&ccbaCtcd=21&ccbaCpno=2442100170000&ccbaCndt=&ccbaLcto=00&stCcbaAsno=&endCcbaAsno=&stCcbaAsdt=&endCcbaAsdt=&ccbaPcd1=&chGubun=&header=region&returnUrl=%2fheri%2fcul%2fculSelectRegionList.do&pageNo=1_1_3_1&sngl=Y', '소재지(상세)': '부산광역시 금정구 범어사로 250 (청룡동, 범어사)', '시대': '1757년', '관리자(관리단체)': '대한불교조계종범어사', '명칭': '범어사 목조(梵魚寺 木槽)', '종목': '부산광역시민속문화유산', '관리자': '대한불교조계종범어사', '분류': '유물 / 불교공예 / 기타'}\n",
      "------\n",
      "설명: 1910년도에 초창된 다포팔작식 목조건물인데 망우당 곽재우 장군과 17장령의 증직명과 관향 등이 적힌 명판을 부착한 충의각으로서 어느 한 곳에도 쇠못을 사용하지 않은 우리나라 전통 목조건물의 건축양식으로 지어졌으며, 조선후기 건립된 다포팔작양식으로 극락세계를 염원하는 상여모양을 본뜬 건물이다.\n",
      "{'관리자': '의령군', 'row': 2059, '분류': '유적건조물 / 인물사건 / 인물기념 / 사우', '종목': '경상남도문화유산자료', '소재지': '경남 의령군', 'source': 'https://www.heritage.go.kr/heri/cul/culSelectDetail.do?culPageNo=206&region=2&searchCondition=&searchCondition2=&s_kdcd=00&s_ctcd=38&ccbaKdcd=31&ccbaAsno=05220000&ccbaCtcd=38&ccbaCpno=3413805220000&ccbaCndt=&ccbaLcto=00&stCcbaAsno=&endCcbaAsno=&stCcbaAsdt=&endCcbaAsdt=&ccbaPcd1=&chGubun=&header=region&returnUrl=%2fheri%2fcul%2fculSelectRegionList.do&pageNo=1_1_3_1&sngl=Y', '수량/면적': '1동', '시대': '1910', '명칭': '의령 충의각(宜寧 忠義閣)', '지정(등록)일': '2010.12.09', '소재지(상세)': '경상남도 의령군 충익로 1 (의령읍, 충익사)', '소유자(소유단체)': '의령군', '관리자(관리단체)': '의령군'}\n",
      "------\n",
      "설명: 앞쪽에 누마루를 둔 ㄱ자형의 평면 형태와 견실한 구조, 치목수법, 치밀한 석재가공과 시공 등이 뛰어난 건물임.\n",
      "\n",
      "특히 독특한 살 짜임의 청방간 분합 들문, 마루 배면의 판문, 온돌방 전면의 창호 및 머름구성이 매우 짜임새가 있고 품격이 높은 형식을 보여줌.\n",
      "\n",
      "기둥 상부의 소로수장, 아름다운 창호구성, 마루 상부의 우물반자 구성에서 근대기 한옥의 건축적 특징과 장식적 경향을 잘 보여줌.\n",
      "{'row': 1975, '명칭': '밀양 혜남정(密陽 惠南亭)', '지정(등록)일': '2008.02.05', '소유자(소유단체)': '일직손씨 통정공파 종중', '분류': '유적건조물 / 주거생활', '시대': '1931년', 'source': 'https://www.heritage.go.kr/heri/cul/culSelectDetail.do?culPageNo=198&region=2&searchCondition=&searchCondition2=&s_kdcd=00&s_ctcd=38&ccbaKdcd=31&ccbaAsno=04360000&ccbaCtcd=38&ccbaCpno=3413804360000&ccbaCndt=&ccbaLcto=00&stCcbaAsno=&endCcbaAsno=&stCcbaAsdt=&endCcbaAsdt=&ccbaPcd1=&chGubun=&header=region&returnUrl=%2fheri%2fcul%2fculSelectRegionList.do&pageNo=1_1_3_1&sngl=Y', '종목': '경상남도문화유산자료', '소재지(상세)': '경상남도 밀양시 원서2길 39 (산내면)', '소재지': '경남 밀양시', '관리자(관리단체)': '일직손씨 통정공파 종중', '수량/면적': '5동', '관리자': '일직손씨 통정공파 종중'}\n",
      "------\n",
      "설명: 1940년대 건립\n",
      "\n",
      "이 건물은 전북특별자치도 지역에 만들어진 일본인 농장에 소속된 일식 목조 주택이다. 1층은 정방형에 가까운 평면으로 ‘ㄱ’자형의 복도를 따라 방들을 배열하였고, 2층에는 외부의 전경을 감상할 수 있는 발코니가 돌출되어 있어 독특한 외관을 이루고 있다. 대농장에 소속된 건물로 일제의 농업 수탈 현장을 증언하고 있다.\n",
      "{'row': 970, '분류': '등록문화유산 / 기타 / 주거숙박시설', '소재지': '전북 익산시', '종목': '국가등록문화유산', '관리자': '안＊＊＊', 'source': 'https://www.heritage.go.kr/heri/cul/culSelectDetail.do?culPageNo=98&region=2&searchCondition=&searchCondition2=&s_kdcd=00&s_ctcd=35&ccbaKdcd=79&ccbaAsno=02110000&ccbaCtcd=35&ccbaCpno=4413502110000&ccbaCndt=&ccbaLcto=00&stCcbaAsno=&endCcbaAsno=&stCcbaAsdt=&endCcbaAsdt=&ccbaPcd1=&chGubun=&header=region&returnUrl=%2fheri%2fcul%2fculSelectRegionList.do&pageNo=1_1_3_1&sngl=Y', '관리자(관리단체)': '안＊＊＊', '소재지(상세)': '전북 익산시 춘포면 춘포4길 48 (춘포리)', '소유자(소유단체)': '안＊＊＊', '명칭': '익산 춘포리 구 일본인 농장 가옥(益山 春蒲里 舊 日本人 農場 家屋)', '수량/면적': '1동, 2층, 건축면적 106.78㎡, 연면적 139.83㎡', '지정(등록)일': '2005.11.11', '시대': '1940년대'}\n"
     ]
    }
   ],
   "source": [
    "from langchain.vectorstores import Chroma\n",
    "from langchain_openai import OpenAIEmbeddings\n",
    "\n",
    "embedding_model = OpenAIEmbeddings(model=\"text-embedding-3-large\")\n",
    "\n",
    "vector_store = Chroma(\n",
    "    collection_name=\"heritage_collection\",\n",
    "    embedding_function=embedding_model,\n",
    "    persist_directory=\"chroma_db\"\n",
    ")\n",
    "\n",
    "# 검색\n",
    "query = \"조선시대의 목조건축\"\n",
    "results = vector_store.similarity_search(query, k=5)\n",
    "\n",
    "for r in results:\n",
    "    print(\"------\")\n",
    "    print(r.page_content)\n",
    "    print(r.metadata)\n"
   ]
  },
  {
   "cell_type": "code",
   "execution_count": 27,
   "id": "befc4fea",
   "metadata": {},
   "outputs": [],
   "source": [
    "retriever = vector_store.as_retriever(search_kwargs={\"k\":10})"
   ]
  },
  {
   "cell_type": "code",
   "execution_count": 28,
   "id": "5d5ed8f8",
   "metadata": {},
   "outputs": [
    {
     "data": {
      "text/plain": [
       "[Document(metadata={'source': 'https://www.heritage.go.kr/heri/cul/culSelectDetail.do?culPageNo=15&region=2&searchCondition=&searchCondition2=&s_kdcd=00&s_ctcd=35&ccbaKdcd=13&ccbaAsno=03470000&ccbaCtcd=35&ccbaCpno=1333503470000&ccbaCndt=&ccbaLcto=00&stCcbaAsno=&endCcbaAsno=&stCcbaAsdt=&endCcbaAsdt=&ccbaPcd1=&chGubun=&header=region&returnUrl=%2fheri%2fcul%2fculSelectRegionList.do&pageNo=1_1_3_1&sngl=Y', '지정(등록)일': '1991.02.26', '소재지': '전북 익산시', '소유자(소유단체)': '익산시 등', '소재지(상세)': '전북 익산시 웅포면 입점리 산174번지 외 3필', '관리자': '익산시', '종목': '사적', '관리자(관리단체)': '익산시', 'row': 143, '수량/면적': '76,056㎡', '시대': '5c중엽', '명칭': '익산 입점리 고분(益山 笠店里 古墳)', '분류': '유적건조물 / 무덤 / 무덤 / 고분군'}, page_content='설명: 전북특별자치도 익산군 입점리 칠목재 구릉 중턱에 있는 백제무덤들이다.\\r\\n\\r\\n1986년 이 마을의 한 고등학생이 칡을 캐다가 금동제 모자 등을 발견·신고하여 알게되었다. 긴급발굴을 하여 8기의 무덤을 확인하였는데, 1호를 제외하고는 파손이 심하였다.\\r\\n\\r\\n1호 무덤은 널방(현실)과 널길(연도)을 갖춘 굴식돌방무덤(횡혈식석실묘) 이다. 또한 천장은 네 벽을 맞추어 쌓아 올리면서 마지막 4장을 덮은 활천장(궁륭식천장)을 이루었다. 출토된 유물로는 토기류·금동모자와 금귀고리, 유리구슬 등의 장신구류·말갖춤(마구)·철기 등 백제 중요 유물이 수습되었다.\\r\\n\\r\\n유물들로 보아 5세기경 만들어진 무덤으로 보이며, 금동제 관모는 일본에서 나온 것과 비슷하여, 당시 백제와 일본간의 문화교류를 짐작하게 한다.'),\n",
       " Document(metadata={'수량/면적': '49,827㎡', '소재지(상세)': '서울 송파구 석촌동 61-6번지', '지정(등록)일': '1975.05.27', '분류': '유적건조물 / 무덤 / 왕실무덤 / 고대', '명칭': '서울 석촌동 고분군(서울 石村洞 古墳群)', '종목': '사적', '소유자(소유단체)': '서울특별시', 'row': 959, '시대': '백제시대 초기', 'source': 'https://www.heritage.go.kr/heri/cul/culSelectDetail.do?culPageNo=96&region=2&searchCondition=&searchCondition2=&s_kdcd=00&s_ctcd=11&ccbaKdcd=13&ccbaAsno=02430000&ccbaCtcd=11&ccbaCpno=1331102430000&ccbaCndt=&ccbaLcto=00&stCcbaAsno=&endCcbaAsno=&stCcbaAsdt=&endCcbaAsdt=&ccbaPcd1=&chGubun=&header=region&returnUrl=%2fheri%2fcul%2fculSelectRegionList.do&pageNo=1_1_3_1&sngl=Y', '관리자(관리단체)': '서울 송파구', '관리자': '서울 송파구', '소재지': '서울 송파구'}, page_content=\"설명: 석촌동 무덤들은 백제 초기에 만들어진 무덤으로서 일제시대 때 처음 조사되었다. 1호, 2호 무덤은 주민들이 농사짓는 땅으로 이용해서 내부구조와 유물은 정확히 알 수 없었으며, 3호 무덤은 기원전·후부터 나타나는 고구려 무덤 형식인 기단식돌무지무덤(기단식적석총)이다.\\r\\n\\r\\n\\r\\n\\r\\n무덤은 높은 지형을 평평하게 하고 밑 테두리에는 매우 크고 긴 돌을 두르고 자연석으로 층단을 이루면서 쌓아올려 3단으로 되었는데, 옛 고구려 지역인 만주 통구에 있는 장군총보다 큰 것임이 밝혀졌다. 5호 무덤은 조사가 완전하게 되지 않아 구조와 유물에 대해서는 확실히 알 수 없으며, 무덤 주변에는 무덤을 두르고 있는 돌을 2단으로 쌓았다.\\r\\n\\r\\n내부구조에 대해서 확실히 알 수는 없고, 이 지역 지배계층의 무덤으로서 주변에 만들어진 무덤의 주인보다는 낮은 계층의 사람들 같고, 독무덤(옹관묘)이나 작은 돌방무덤(석실묘)에 묻힌 사람들 보다는 조금 높은 신분계층의 사람들의 무덤으로 볼 수 있다.\\r\\n\\r\\n이 무덤들은 가락동·방이동 무덤과 함께 초기 백제의 문화와 역사를 알려주는 중요한 자료이다.\\r\\n\\r\\n※'석촌동백제초기적석총'은 '서울 석촌동 고분군'으로 명칭변경 되었습니다. (2011.07.28 고시)\"),\n",
       " Document(metadata={'종목': '국보', '수량/면적': '1기', '지정(등록)일': '1962.12.20', '소재지': '충남 부여군', 'row': 452, '명칭': '부여 정림사지 오층석탑(扶餘 定林寺址 五層石塔)', 'source': 'https://www.heritage.go.kr/heri/cul/culSelectDetail.do?culPageNo=1&region=2&searchCondition=&searchCondition2=&s_kdcd=00&s_ctcd=34&ccbaKdcd=11&ccbaAsno=00090000&ccbaCtcd=34&ccbaCpno=1113400090000&ccbaCndt=&ccbaLcto=00&stCcbaAsno=&endCcbaAsno=&stCcbaAsdt=&endCcbaAsdt=&ccbaPcd1=&chGubun=&header=region&returnUrl=%2fheri%2fcul%2fculSelectRegionList.do&pageNo=1_1_3_1&sngl=Y', '관리자(관리단체)': '부여군', '시대': '백제시대 후기 7세기', '관리자': '부여군', '분류': '유적건조물 / 종교신앙 / 불교 / 탑', '소유자(소유단체)': '국유', '소재지(상세)': '충청남도 부여군 정림로 83 (부여읍, 정림사지) 정림사지박물관'}, page_content='설명: 부여 정림사터에 세워져 있는 석탑으로, 좁고 낮은 1단의 기단(基壇)위에 5층의 탑신(塔身)을 세운 모습이다. 신라와의 연합군으로 백제를 멸망시킨 당나라 장수 소정방이 ‘백제를 정벌한 기념탑’이라는 뜻의 글귀를 이 탑에 남겨놓아, 한때는 ‘평제탑’이라고 잘못 불리어지는 수모를 겪기도 하였다.\\n\\n기단은 각 면의 가운데와 모서리에 기둥돌을 끼워 놓았고, 탑신부의 각 층 몸돌에는 모서리마다 기둥을 세워놓았는데, 하부로부터 상부로 가면서 점차 폭을 줄이는 민흘림기법을 사용하였다. 얇고 넓은 지붕돌은 처마의 네 귀퉁이에서 부드럽게 들려져 단아한 자태를 보여준다.\\n\\n좁고 얕은 1단의 기단과 민흘림기법의 기둥표현, 얇고 넓은 지붕돌의 형태 등은 목조건물의 형식을 충실히 이행하면서도 단순한 모방이 아닌 세련되고 창의적인 조형을 보여주며, 전체의 형태가 매우 장중하고 아름답다.\\n\\n익산 미륵사지 석탑(국보)과 함께 2기만 남아있는 백제시대의 석탑이라는 점에서도 귀중한 자료로 평가되며, 세련되고 정제된 조형미를 통해 격조높은 기품을 풍기고 있는 아름다운 작품이다.'),\n",
       " Document(metadata={'소유자(소유단체)': '국유', '수량/면적': '1기', '소재지(상세)': '충청남도 부여군 정림로 83 (부여읍, 정림사지) 정림사지박물관', '시대': '백제시대 후기 7세기', '명칭': '부여 정림사지 오층석탑(扶餘 定林寺址 五層石塔)', '관리자': '부여군', 'row': 822, '관리자(관리단체)': '부여군', '소재지': '충남 부여군', '분류': '유적건조물 / 종교신앙 / 불교 / 탑', '종목': '국보', 'source': 'https://www.heritage.go.kr/heri/cul/culSelectDetail.do?culPageNo=1&region=2&searchCondition=&searchCondition2=&s_kdcd=00&s_ctcd=34&ccbaKdcd=11&ccbaAsno=00090000&ccbaCtcd=34&ccbaCpno=1113400090000&ccbaCndt=&ccbaLcto=00&stCcbaAsno=&endCcbaAsno=&stCcbaAsdt=&endCcbaAsdt=&ccbaPcd1=&chGubun=&header=region&returnUrl=%2fheri%2fcul%2fculSelectRegionList.do&pageNo=1_1_3_1&sngl=Y', '지정(등록)일': '1962.12.20'}, page_content='설명: 부여 정림사터에 세워져 있는 석탑으로, 좁고 낮은 1단의 기단(基壇)위에 5층의 탑신(塔身)을 세운 모습이다. 신라와의 연합군으로 백제를 멸망시킨 당나라 장수 소정방이 ‘백제를 정벌한 기념탑’이라는 뜻의 글귀를 이 탑에 남겨놓아, 한때는 ‘평제탑’이라고 잘못 불리어지는 수모를 겪기도 하였다.\\n\\n기단은 각 면의 가운데와 모서리에 기둥돌을 끼워 놓았고, 탑신부의 각 층 몸돌에는 모서리마다 기둥을 세워놓았는데, 하부로부터 상부로 가면서 점차 폭을 줄이는 민흘림기법을 사용하였다. 얇고 넓은 지붕돌은 처마의 네 귀퉁이에서 부드럽게 들려져 단아한 자태를 보여준다.\\n\\n좁고 얕은 1단의 기단과 민흘림기법의 기둥표현, 얇고 넓은 지붕돌의 형태 등은 목조건물의 형식을 충실히 이행하면서도 단순한 모방이 아닌 세련되고 창의적인 조형을 보여주며, 전체의 형태가 매우 장중하고 아름답다.\\n\\n익산 미륵사지 석탑(국보)과 함께 2기만 남아있는 백제시대의 석탑이라는 점에서도 귀중한 자료로 평가되며, 세련되고 정제된 조형미를 통해 격조높은 기품을 풍기고 있는 아름다운 작품이다.'),\n",
       " Document(metadata={'분류': '유적건조물 / 종교신앙 / 불교 / 탑', '소재지': '충남 부여군', '명칭': '부여 정림사지 오층석탑(扶餘 定林寺址 五層石塔)', '시대': '백제시대 후기 7세기', '지정(등록)일': '1962.12.20', '관리자': '부여군', 'row': 992, '수량/면적': '1기', '관리자(관리단체)': '부여군', '종목': '국보', 'source': 'https://www.heritage.go.kr/heri/cul/culSelectDetail.do?culPageNo=1&region=2&searchCondition=&searchCondition2=&s_kdcd=00&s_ctcd=34&ccbaKdcd=11&ccbaAsno=00090000&ccbaCtcd=34&ccbaCpno=1113400090000&ccbaCndt=&ccbaLcto=00&stCcbaAsno=&endCcbaAsno=&stCcbaAsdt=&endCcbaAsdt=&ccbaPcd1=&chGubun=&header=region&returnUrl=%2fheri%2fcul%2fculSelectRegionList.do&pageNo=1_1_3_1&sngl=Y', '소유자(소유단체)': '국유', '소재지(상세)': '충청남도 부여군 정림로 83 (부여읍, 정림사지) 정림사지박물관'}, page_content='설명: 부여 정림사터에 세워져 있는 석탑으로, 좁고 낮은 1단의 기단(基壇)위에 5층의 탑신(塔身)을 세운 모습이다. 신라와의 연합군으로 백제를 멸망시킨 당나라 장수 소정방이 ‘백제를 정벌한 기념탑’이라는 뜻의 글귀를 이 탑에 남겨놓아, 한때는 ‘평제탑’이라고 잘못 불리어지는 수모를 겪기도 하였다.\\n\\n기단은 각 면의 가운데와 모서리에 기둥돌을 끼워 놓았고, 탑신부의 각 층 몸돌에는 모서리마다 기둥을 세워놓았는데, 하부로부터 상부로 가면서 점차 폭을 줄이는 민흘림기법을 사용하였다. 얇고 넓은 지붕돌은 처마의 네 귀퉁이에서 부드럽게 들려져 단아한 자태를 보여준다.\\n\\n좁고 얕은 1단의 기단과 민흘림기법의 기둥표현, 얇고 넓은 지붕돌의 형태 등은 목조건물의 형식을 충실히 이행하면서도 단순한 모방이 아닌 세련되고 창의적인 조형을 보여주며, 전체의 형태가 매우 장중하고 아름답다.\\n\\n익산 미륵사지 석탑(국보)과 함께 2기만 남아있는 백제시대의 석탑이라는 점에서도 귀중한 자료로 평가되며, 세련되고 정제된 조형미를 통해 격조높은 기품을 풍기고 있는 아름다운 작품이다.'),\n",
       " Document(metadata={'명칭': '부여 정림사지 오층석탑(扶餘 定林寺址 五層石塔)', '소재지(상세)': '충청남도 부여군 정림로 83 (부여읍, 정림사지) 정림사지박물관', '분류': '유적건조물 / 종교신앙 / 불교 / 탑', '수량/면적': '1기', '소유자(소유단체)': '국유', 'row': 1032, '종목': '국보', '관리자(관리단체)': '부여군', '지정(등록)일': '1962.12.20', 'source': 'https://www.heritage.go.kr/heri/cul/culSelectDetail.do?culPageNo=1&region=2&searchCondition=&searchCondition2=&s_kdcd=00&s_ctcd=34&ccbaKdcd=11&ccbaAsno=00090000&ccbaCtcd=34&ccbaCpno=1113400090000&ccbaCndt=&ccbaLcto=00&stCcbaAsno=&endCcbaAsno=&stCcbaAsdt=&endCcbaAsdt=&ccbaPcd1=&chGubun=&header=region&returnUrl=%2fheri%2fcul%2fculSelectRegionList.do&pageNo=1_1_3_1&sngl=Y', '관리자': '부여군', '시대': '백제시대 후기 7세기', '소재지': '충남 부여군'}, page_content='설명: 부여 정림사터에 세워져 있는 석탑으로, 좁고 낮은 1단의 기단(基壇)위에 5층의 탑신(塔身)을 세운 모습이다. 신라와의 연합군으로 백제를 멸망시킨 당나라 장수 소정방이 ‘백제를 정벌한 기념탑’이라는 뜻의 글귀를 이 탑에 남겨놓아, 한때는 ‘평제탑’이라고 잘못 불리어지는 수모를 겪기도 하였다.\\n\\n기단은 각 면의 가운데와 모서리에 기둥돌을 끼워 놓았고, 탑신부의 각 층 몸돌에는 모서리마다 기둥을 세워놓았는데, 하부로부터 상부로 가면서 점차 폭을 줄이는 민흘림기법을 사용하였다. 얇고 넓은 지붕돌은 처마의 네 귀퉁이에서 부드럽게 들려져 단아한 자태를 보여준다.\\n\\n좁고 얕은 1단의 기단과 민흘림기법의 기둥표현, 얇고 넓은 지붕돌의 형태 등은 목조건물의 형식을 충실히 이행하면서도 단순한 모방이 아닌 세련되고 창의적인 조형을 보여주며, 전체의 형태가 매우 장중하고 아름답다.\\n\\n익산 미륵사지 석탑(국보)과 함께 2기만 남아있는 백제시대의 석탑이라는 점에서도 귀중한 자료로 평가되며, 세련되고 정제된 조형미를 통해 격조높은 기품을 풍기고 있는 아름다운 작품이다.'),\n",
       " Document(metadata={'분류': '유적건조물 / 종교신앙 / 불교 / 탑', '시대': '백제시대 후기 7세기', 'row': 1072, '관리자': '부여군', 'source': 'https://www.heritage.go.kr/heri/cul/culSelectDetail.do?culPageNo=1&region=2&searchCondition=&searchCondition2=&s_kdcd=00&s_ctcd=34&ccbaKdcd=11&ccbaAsno=00090000&ccbaCtcd=34&ccbaCpno=1113400090000&ccbaCndt=&ccbaLcto=00&stCcbaAsno=&endCcbaAsno=&stCcbaAsdt=&endCcbaAsdt=&ccbaPcd1=&chGubun=&header=region&returnUrl=%2fheri%2fcul%2fculSelectRegionList.do&pageNo=1_1_3_1&sngl=Y', '소재지': '충남 부여군', '소유자(소유단체)': '국유', '관리자(관리단체)': '부여군', '종목': '국보', '명칭': '부여 정림사지 오층석탑(扶餘 定林寺址 五層石塔)', '소재지(상세)': '충청남도 부여군 정림로 83 (부여읍, 정림사지) 정림사지박물관', '지정(등록)일': '1962.12.20', '수량/면적': '1기'}, page_content='설명: 부여 정림사터에 세워져 있는 석탑으로, 좁고 낮은 1단의 기단(基壇)위에 5층의 탑신(塔身)을 세운 모습이다. 신라와의 연합군으로 백제를 멸망시킨 당나라 장수 소정방이 ‘백제를 정벌한 기념탑’이라는 뜻의 글귀를 이 탑에 남겨놓아, 한때는 ‘평제탑’이라고 잘못 불리어지는 수모를 겪기도 하였다.\\n\\n기단은 각 면의 가운데와 모서리에 기둥돌을 끼워 놓았고, 탑신부의 각 층 몸돌에는 모서리마다 기둥을 세워놓았는데, 하부로부터 상부로 가면서 점차 폭을 줄이는 민흘림기법을 사용하였다. 얇고 넓은 지붕돌은 처마의 네 귀퉁이에서 부드럽게 들려져 단아한 자태를 보여준다.\\n\\n좁고 얕은 1단의 기단과 민흘림기법의 기둥표현, 얇고 넓은 지붕돌의 형태 등은 목조건물의 형식을 충실히 이행하면서도 단순한 모방이 아닌 세련되고 창의적인 조형을 보여주며, 전체의 형태가 매우 장중하고 아름답다.\\n\\n익산 미륵사지 석탑(국보)과 함께 2기만 남아있는 백제시대의 석탑이라는 점에서도 귀중한 자료로 평가되며, 세련되고 정제된 조형미를 통해 격조높은 기품을 풍기고 있는 아름다운 작품이다.'),\n",
       " Document(metadata={'관리자(관리단체)': '부여군', 'source': 'https://www.heritage.go.kr/heri/cul/culSelectDetail.do?culPageNo=1&region=2&searchCondition=&searchCondition2=&s_kdcd=00&s_ctcd=34&ccbaKdcd=11&ccbaAsno=00090000&ccbaCtcd=34&ccbaCpno=1113400090000&ccbaCndt=&ccbaLcto=00&stCcbaAsno=&endCcbaAsno=&stCcbaAsdt=&endCcbaAsdt=&ccbaPcd1=&chGubun=&header=region&returnUrl=%2fheri%2fcul%2fculSelectRegionList.do&pageNo=1_1_3_1&sngl=Y', '소재지(상세)': '충청남도 부여군 정림로 83 (부여읍, 정림사지) 정림사지박물관', '수량/면적': '1기', '관리자': '부여군', '종목': '국보', '시대': '백제시대 후기 7세기', '소유자(소유단체)': '국유', '소재지': '충남 부여군', '분류': '유적건조물 / 종교신앙 / 불교 / 탑', 'row': 592, '명칭': '부여 정림사지 오층석탑(扶餘 定林寺址 五層石塔)', '지정(등록)일': '1962.12.20'}, page_content='설명: 부여 정림사터에 세워져 있는 석탑으로, 좁고 낮은 1단의 기단(基壇)위에 5층의 탑신(塔身)을 세운 모습이다. 신라와의 연합군으로 백제를 멸망시킨 당나라 장수 소정방이 ‘백제를 정벌한 기념탑’이라는 뜻의 글귀를 이 탑에 남겨놓아, 한때는 ‘평제탑’이라고 잘못 불리어지는 수모를 겪기도 하였다.\\n\\n기단은 각 면의 가운데와 모서리에 기둥돌을 끼워 놓았고, 탑신부의 각 층 몸돌에는 모서리마다 기둥을 세워놓았는데, 하부로부터 상부로 가면서 점차 폭을 줄이는 민흘림기법을 사용하였다. 얇고 넓은 지붕돌은 처마의 네 귀퉁이에서 부드럽게 들려져 단아한 자태를 보여준다.\\n\\n좁고 얕은 1단의 기단과 민흘림기법의 기둥표현, 얇고 넓은 지붕돌의 형태 등은 목조건물의 형식을 충실히 이행하면서도 단순한 모방이 아닌 세련되고 창의적인 조형을 보여주며, 전체의 형태가 매우 장중하고 아름답다.\\n\\n익산 미륵사지 석탑(국보)과 함께 2기만 남아있는 백제시대의 석탑이라는 점에서도 귀중한 자료로 평가되며, 세련되고 정제된 조형미를 통해 격조높은 기품을 풍기고 있는 아름다운 작품이다.'),\n",
       " Document(metadata={'소재지': '충남 부여군', '소재지(상세)': '충청남도 부여군 정림로 83 (부여읍, 정림사지) 정림사지박물관', '분류': '유적건조물 / 종교신앙 / 불교 / 탑', 'source': 'https://www.heritage.go.kr/heri/cul/culSelectDetail.do?culPageNo=1&region=2&searchCondition=&searchCondition2=&s_kdcd=00&s_ctcd=34&ccbaKdcd=11&ccbaAsno=00090000&ccbaCtcd=34&ccbaCpno=1113400090000&ccbaCndt=&ccbaLcto=00&stCcbaAsno=&endCcbaAsno=&stCcbaAsdt=&endCcbaAsdt=&ccbaPcd1=&chGubun=&header=region&returnUrl=%2fheri%2fcul%2fculSelectRegionList.do&pageNo=1_1_3_1&sngl=Y', '관리자(관리단체)': '부여군', '수량/면적': '1기', '관리자': '부여군', '명칭': '부여 정림사지 오층석탑(扶餘 定林寺址 五層石塔)', '시대': '백제시대 후기 7세기', '종목': '국보', '지정(등록)일': '1962.12.20', 'row': 862, '소유자(소유단체)': '국유'}, page_content='설명: 부여 정림사터에 세워져 있는 석탑으로, 좁고 낮은 1단의 기단(基壇)위에 5층의 탑신(塔身)을 세운 모습이다. 신라와의 연합군으로 백제를 멸망시킨 당나라 장수 소정방이 ‘백제를 정벌한 기념탑’이라는 뜻의 글귀를 이 탑에 남겨놓아, 한때는 ‘평제탑’이라고 잘못 불리어지는 수모를 겪기도 하였다.\\n\\n기단은 각 면의 가운데와 모서리에 기둥돌을 끼워 놓았고, 탑신부의 각 층 몸돌에는 모서리마다 기둥을 세워놓았는데, 하부로부터 상부로 가면서 점차 폭을 줄이는 민흘림기법을 사용하였다. 얇고 넓은 지붕돌은 처마의 네 귀퉁이에서 부드럽게 들려져 단아한 자태를 보여준다.\\n\\n좁고 얕은 1단의 기단과 민흘림기법의 기둥표현, 얇고 넓은 지붕돌의 형태 등은 목조건물의 형식을 충실히 이행하면서도 단순한 모방이 아닌 세련되고 창의적인 조형을 보여주며, 전체의 형태가 매우 장중하고 아름답다.\\n\\n익산 미륵사지 석탑(국보)과 함께 2기만 남아있는 백제시대의 석탑이라는 점에서도 귀중한 자료로 평가되며, 세련되고 정제된 조형미를 통해 격조높은 기품을 풍기고 있는 아름다운 작품이다.'),\n",
       " Document(metadata={'분류': '유적건조물 / 종교신앙 / 불교 / 탑', '종목': '국보', '지정(등록)일': '1962.12.20', '소재지(상세)': '충청남도 부여군 정림로 83 (부여읍, 정림사지) 정림사지박물관', '관리자(관리단체)': '부여군', 'source': 'https://www.heritage.go.kr/heri/cul/culSelectDetail.do?culPageNo=1&region=2&searchCondition=&searchCondition2=&s_kdcd=00&s_ctcd=34&ccbaKdcd=11&ccbaAsno=00090000&ccbaCtcd=34&ccbaCpno=1113400090000&ccbaCndt=&ccbaLcto=00&stCcbaAsno=&endCcbaAsno=&stCcbaAsdt=&endCcbaAsdt=&ccbaPcd1=&chGubun=&header=region&returnUrl=%2fheri%2fcul%2fculSelectRegionList.do&pageNo=1_1_3_1&sngl=Y', '수량/면적': '1기', '명칭': '부여 정림사지 오층석탑(扶餘 定林寺址 五層石塔)', 'row': 1042, '소재지': '충남 부여군', '소유자(소유단체)': '국유', '시대': '백제시대 후기 7세기', '관리자': '부여군'}, page_content='설명: 부여 정림사터에 세워져 있는 석탑으로, 좁고 낮은 1단의 기단(基壇)위에 5층의 탑신(塔身)을 세운 모습이다. 신라와의 연합군으로 백제를 멸망시킨 당나라 장수 소정방이 ‘백제를 정벌한 기념탑’이라는 뜻의 글귀를 이 탑에 남겨놓아, 한때는 ‘평제탑’이라고 잘못 불리어지는 수모를 겪기도 하였다.\\n\\n기단은 각 면의 가운데와 모서리에 기둥돌을 끼워 놓았고, 탑신부의 각 층 몸돌에는 모서리마다 기둥을 세워놓았는데, 하부로부터 상부로 가면서 점차 폭을 줄이는 민흘림기법을 사용하였다. 얇고 넓은 지붕돌은 처마의 네 귀퉁이에서 부드럽게 들려져 단아한 자태를 보여준다.\\n\\n좁고 얕은 1단의 기단과 민흘림기법의 기둥표현, 얇고 넓은 지붕돌의 형태 등은 목조건물의 형식을 충실히 이행하면서도 단순한 모방이 아닌 세련되고 창의적인 조형을 보여주며, 전체의 형태가 매우 장중하고 아름답다.\\n\\n익산 미륵사지 석탑(국보)과 함께 2기만 남아있는 백제시대의 석탑이라는 점에서도 귀중한 자료로 평가되며, 세련되고 정제된 조형미를 통해 격조높은 기품을 풍기고 있는 아름다운 작품이다.')]"
      ]
     },
     "execution_count": 28,
     "metadata": {},
     "output_type": "execute_result"
    }
   ],
   "source": [
    "query = \"백제의 문화 특징을 알려줘.\"\n",
    "\n",
    "result = retriever.invoke(query)\n",
    "result"
   ]
  },
  {
   "cell_type": "code",
   "execution_count": 29,
   "id": "9fa267b6",
   "metadata": {},
   "outputs": [],
   "source": [
    "template = \"\"\"\n",
    "[Instruction]\n",
    "당신은 한국 문화유산 전문가입니다.\n",
    "한국 문화유산에 관한 데이터는 대부분 chroma_db에 저장되어 있습니다.\n",
    "당신에게는 사용자 질문과, chroma_db로부터 획득한 정보가 제공됩니다.\n",
    "한국 문화유산에 대한 질문이 들어온다면,\n",
    "chroma_db에 저장되어 있는 데이터를 기반으로 사용자의 질문에 답변해주세요.\n",
    "\n",
    "[사용자 질문]\n",
    "{query}\n",
    "\n",
    "[chroma_db 정보]\n",
    "{chroma_db_info}\n",
    "\"\"\""
   ]
  },
  {
   "cell_type": "code",
   "execution_count": 30,
   "id": "83a75665",
   "metadata": {},
   "outputs": [],
   "source": [
    "from langchain_openai import ChatOpenAI\n",
    "from langchain_core.prompts import PromptTemplate\n",
    "from langchain_core.runnables import *\n",
    "from langchain_core.output_parsers import StrOutputParser\n",
    "\n",
    "load_dotenv()\n",
    "\n",
    "prompt_template = PromptTemplate(template=template)\n",
    "\n",
    "model = ChatOpenAI(model_name=\"gpt-4o-mini\")\n",
    "\n",
    "parser = StrOutputParser()"
   ]
  },
  {
   "cell_type": "code",
   "execution_count": 31,
   "id": "a20c6de3",
   "metadata": {},
   "outputs": [],
   "source": [
    "runn = RunnableParallel(\n",
    "    {\n",
    "        \"chroma_db_info\":retriever,\n",
    "        \"query\":RunnablePassthrough()\n",
    "    }\n",
    ")"
   ]
  },
  {
   "cell_type": "code",
   "execution_count": 32,
   "id": "700bff0c",
   "metadata": {},
   "outputs": [],
   "source": [
    "chain = runn|prompt_template|model|parser"
   ]
  },
  {
   "cell_type": "code",
   "execution_count": 33,
   "id": "b6b39bb7",
   "metadata": {},
   "outputs": [],
   "source": [
    "from IPython.display import Markdown\n",
    "query = \"백제의 문화유산이 많은 대한민국의 지역은 어디야?\""
   ]
  },
  {
   "cell_type": "code",
   "execution_count": 34,
   "id": "9a261ecc",
   "metadata": {},
   "outputs": [
    {
     "data": {
      "text/markdown": [
       "백제의 문화유산이 많은 대한민국의 지역은 전라북도입니다. 특히 익산시와 정읍시에 많은 고분군이 위치하고 있습니다.\n",
       "\n",
       "1. **익산 입점리 고분군** - 이곳은 백제무덤들이 밀집해 있으며, 5세기경에 만들어진 것으로 추정되는 고분이 포함되어 있습니다. 출토된 유물로는 금동제 모자와 장신구 등이 있어 백제와 일본 간의 문화교류를 짐작하게 합니다. [자세한 정보](https://www.heritage.go.kr/heri/cul/culSelectDetail.do?culPageNo=15&region=2&ccbaAsno=03470000)\n",
       "\n",
       "2. **정읍 은선리와 도계리 고분군** - 여기에는 275여 기의 백제 고분이 분포하고 있으며, 사적 지정된 56기의 횡혈식 석실분이 포함되어 있습니다. 이 고분군은 백제의 중앙과 지방, 대외 관계에 대한 중요한 자료로 평가받고 있습니다. [자세한 정보](https://www.heritage.go.kr/heri/cul/culSelectDetail.do?culPageNo=16&region=2&ccbaAsno=05430000)\n",
       "\n",
       "이 외에도 전라북도 김제, 화성시도 백제 문화유산이 발견된 지역입니다. 전라북도는 백제 고분군이 다양하게 분포하고 있어 백제의 문화유산을 심층적으로 이해하는 데 중요한 지역입니다."
      ],
      "text/plain": [
       "<IPython.core.display.Markdown object>"
      ]
     },
     "execution_count": 34,
     "metadata": {},
     "output_type": "execute_result"
    }
   ],
   "source": [
    "res = chain.invoke(query)\n",
    "Markdown(res)"
   ]
  },
  {
   "cell_type": "code",
   "execution_count": null,
   "id": "aba2cc7c",
   "metadata": {},
   "outputs": [],
   "source": [
    "# [지피티가 준 주소]\n",
    "# https://www.heritage.go.kr/heri/cul/culSelectDetail.do?culPageNo=15&region=2&ccbaAsno=03470000\n",
    "# [실제 주소]\n",
    "# https://www.heritage.go.kr/heri/cul/culSelectDetail.do?pageNo=1_1_1_1&sngl=Y&ccbaCpno=1333503470000\n",
    "\n",
    "# 왜 이럴까?"
   ]
  }
 ],
 "metadata": {
  "kernelspec": {
   "display_name": "lang_env",
   "language": "python",
   "name": "python3"
  },
  "language_info": {
   "codemirror_mode": {
    "name": "ipython",
    "version": 3
   },
   "file_extension": ".py",
   "mimetype": "text/x-python",
   "name": "python",
   "nbconvert_exporter": "python",
   "pygments_lexer": "ipython3",
   "version": "3.12.11"
  }
 },
 "nbformat": 4,
 "nbformat_minor": 5
}
